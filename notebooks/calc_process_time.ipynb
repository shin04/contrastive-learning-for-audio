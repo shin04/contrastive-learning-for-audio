{
 "cells": [
  {
   "cell_type": "code",
   "execution_count": 1,
   "id": "d5fca816-f7de-481b-b1ba-afd76bc2c1f4",
   "metadata": {},
   "outputs": [],
   "source": [
    "import numpy as np\n",
    "import pandas as pd\n",
    "import soundfile as sf\n",
    "import librosa\n",
    "import h5py\n",
    "\n",
    "import time\n",
    "import sys\n",
    "import os\n",
    "\n",
    "sys.path.append('../')\n",
    "from src.datasets import utils"
   ]
  },
  {
   "cell_type": "code",
   "execution_count": 2,
   "id": "77970deb-13b6-46c7-a157-3cf0e1071332",
   "metadata": {},
   "outputs": [],
   "source": [
    "df = pd.read_csv('../meta/meta_train_not_mount.csv', header=None)\n",
    "pathes = df[0].values.tolist()"
   ]
  },
  {
   "cell_type": "code",
   "execution_count": 3,
   "id": "790904e2-e89d-4de4-846d-25728c559485",
   "metadata": {},
   "outputs": [
    {
     "name": "stdout",
     "output_type": "stream",
     "text": [
      "0.009858937497483566\n"
     ]
    }
   ],
   "source": [
    "times = []\n",
    "for i in range(10):\n",
    "    s = time.perf_counter()\n",
    "    y, sr = sf.read(pathes[i])\n",
    "    times.append(time.perf_counter() - s)\n",
    "print(sum(times) / len(times))"
   ]
  },
  {
   "cell_type": "code",
   "execution_count": 4,
   "id": "edaf7b82-e605-408b-a8bc-f17d61b456e3",
   "metadata": {},
   "outputs": [
    {
     "name": "stdout",
     "output_type": "stream",
     "text": [
      "0.015038246888434515\n"
     ]
    }
   ],
   "source": [
    "times = []\n",
    "sr = 22050\n",
    "win_size = int(0.2*sr)\n",
    "hop_len = int(0.1*sr)\n",
    "n_mels = 80\n",
    "max_shift = 20\n",
    "for i in range(10):\n",
    "    s = time.perf_counter()\n",
    "    _ = utils.mel_spec(y, sr, win_size, hop_len, n_mels, max_shift)\n",
    "    times.append(time.perf_counter() - s)\n",
    "print(sum(times) / len(times))"
   ]
  },
  {
   "cell_type": "code",
   "execution_count": 5,
   "id": "646e59a2-57fc-44c9-9863-4716a4ac33a6",
   "metadata": {},
   "outputs": [
    {
     "name": "stdout",
     "output_type": "stream",
     "text": [
      "7.018109317868948e-06\n"
     ]
    }
   ],
   "source": [
    "times = []\n",
    "for i in range(10):\n",
    "    s = time.perf_counter()\n",
    "    crop_data, _ = utils.random_crop(y, 3*sr)\n",
    "    times.append(time.perf_counter() - s)\n",
    "print(sum(times) / len(times))"
   ]
  },
  {
   "cell_type": "code",
   "execution_count": 6,
   "id": "bc46e2dd-066a-49c1-8a7b-d91504e85317",
   "metadata": {},
   "outputs": [
    {
     "name": "stdout",
     "output_type": "stream",
     "text": [
      "0.004948745565343415\n"
     ]
    }
   ],
   "source": [
    "base_path = '/home/kajiwara21/nas02/home/dataset/AudioSet/npy/20210701'\n",
    "times = []\n",
    "for i in range(10):\n",
    "    s = time.perf_counter()\n",
    "    arr = np.load(f'{base_path}/wave_{i}.npy')\n",
    "    times.append(time.perf_counter() - s)\n",
    "print(sum(times) / len(times) / 32)"
   ]
  },
  {
   "cell_type": "code",
   "execution_count": 7,
   "id": "5c91df6f-4f32-4a1a-aa29-9ae790bf185b",
   "metadata": {},
   "outputs": [
    {
     "name": "stdout",
     "output_type": "stream",
     "text": [
      "0.01677376319421455\n"
     ]
    }
   ],
   "source": [
    "hdf5_path = '/home/kajiwara21/nas02/home/dataset/AudioSet/hdf5/waveform/balanced_train.h5'\n",
    "\n",
    "times = []\n",
    "for i in range(10):\n",
    "    s = time.perf_counter()\n",
    "    with h5py.File(hdf5_path, 'r') as hf:\n",
    "        waveform = hf['waveform'][i]\n",
    "    times.append(time.perf_counter() - s)\n",
    "print(sum(times) / len(times))"
   ]
  },
  {
   "cell_type": "code",
   "execution_count": 8,
   "id": "e492b6b2-ef6f-4808-9a62-6a9f40d781bb",
   "metadata": {},
   "outputs": [
    {
     "name": "stdout",
     "output_type": "stream",
     "text": [
      "0.019999726297101006\n"
     ]
    }
   ],
   "source": [
    "hdf5_path = '/home/kajiwara21/nas02/home/dataset/AudioSet/hdf5/waveform/balanced_train.h5'\n",
    "\n",
    "times = []\n",
    "for i in range(10):\n",
    "    s = time.perf_counter()\n",
    "    hf = h5py.File(hdf5_path, 'r')\n",
    "    waveform = hf['waveform'][i]\n",
    "    times.append(time.perf_counter() - s)\n",
    "print(sum(times) / len(times))\n",
    "hf.close()"
   ]
  },
  {
   "cell_type": "code",
   "execution_count": null,
   "id": "bbdf5f21-be97-453b-a483-a19d9dbbeae5",
   "metadata": {},
   "outputs": [],
   "source": []
  }
 ],
 "metadata": {
  "kernelspec": {
   "display_name": "cl_env",
   "language": "python",
   "name": "cl_env"
  },
  "language_info": {
   "codemirror_mode": {
    "name": "ipython",
    "version": 3
   },
   "file_extension": ".py",
   "mimetype": "text/x-python",
   "name": "python",
   "nbconvert_exporter": "python",
   "pygments_lexer": "ipython3",
   "version": "3.8.8"
  }
 },
 "nbformat": 4,
 "nbformat_minor": 5
}
