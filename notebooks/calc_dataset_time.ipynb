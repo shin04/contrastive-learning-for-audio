{
 "cells": [
  {
   "cell_type": "code",
   "execution_count": 1,
   "id": "7100b4ca-b3f2-4a0c-9ce0-605583c71d67",
   "metadata": {},
   "outputs": [],
   "source": [
    "import sys\n",
    "import time\n",
    "from pathlib import Path\n",
    "\n",
    "from torch.utils.data import DataLoader\n",
    "\n",
    "sys.path.append('../src')\n",
    "from datasets.audioset import AudioSetDataset, HDF5Dataset"
   ]
  },
  {
   "cell_type": "code",
   "execution_count": 2,
   "id": "591d85f3-e932-467d-94f7-52acf2733988",
   "metadata": {},
   "outputs": [],
   "source": [
    "def run_loader(dataloader):\n",
    "    for data in dataloader:\n",
    "        pass"
   ]
  },
  {
   "cell_type": "code",
   "execution_count": 3,
   "id": "8aedba4e-4c10-4107-bb9e-5a78fe4d199b",
   "metadata": {},
   "outputs": [],
   "source": [
    "raw_dataset = AudioSetDataset(\n",
    "    metadata_path=Path('../meta/meta_train_not_mount.csv'),\n",
    "    sr=32000,\n",
    "    crop_sec=3,\n",
    ")"
   ]
  },
  {
   "cell_type": "code",
   "execution_count": 4,
   "id": "4b8f26f8-9908-4f9f-9c38-7e9d8312e54b",
   "metadata": {},
   "outputs": [],
   "source": [
    "raw_dataloader = DataLoader(raw_dataset, batch_size=32, shuffle=True, num_workers=0, pin_memory=False)"
   ]
  },
  {
   "cell_type": "code",
   "execution_count": 5,
   "id": "994cab4d-58a7-4880-900f-c4495a4ff5ad",
   "metadata": {},
   "outputs": [
    {
     "name": "stdout",
     "output_type": "stream",
     "text": [
      "52min 47s ± 0 ns per loop (mean ± std. dev. of 1 run, 1 loop each)\n"
     ]
    }
   ],
   "source": [
    "%timeit -n1 -r1 run_loader(raw_dataloader)"
   ]
  },
  {
   "cell_type": "code",
   "execution_count": 6,
   "id": "54afb517-3c93-4f70-b598-6d5de526063e",
   "metadata": {},
   "outputs": [],
   "source": [
    "hdf_dataset = HDF5Dataset(\n",
    "    hdf5_dir='/home/kajiwara21/nas02/home/dataset/AudioSet/hdf5/waveform',\n",
    "    crop_sec=3\n",
    ")"
   ]
  },
  {
   "cell_type": "code",
   "execution_count": 7,
   "id": "044a7dc4-be55-430f-bfc0-7c9711ed7ada",
   "metadata": {},
   "outputs": [],
   "source": [
    "hdf_dataloader = DataLoader(hdf_dataset, batch_size=32, shuffle=True, num_workers=0, pin_memory=False)"
   ]
  },
  {
   "cell_type": "code",
   "execution_count": 8,
   "id": "a9a0c7c4-e1d4-4900-98c1-4c7ba5e3f4c9",
   "metadata": {},
   "outputs": [
    {
     "name": "stdout",
     "output_type": "stream",
     "text": [
      "48min 59s ± 0 ns per loop (mean ± std. dev. of 1 run, 1 loop each)\n"
     ]
    }
   ],
   "source": [
    "%timeit -n1 -r1 run_loader(hdf_dataloader)"
   ]
  },
  {
   "cell_type": "code",
   "execution_count": null,
   "id": "572e1929-50c4-498d-a0ab-ff79a417bd3d",
   "metadata": {},
   "outputs": [],
   "source": []
  }
 ],
 "metadata": {
  "kernelspec": {
   "display_name": "cl_env",
   "language": "python",
   "name": "cl_env"
  },
  "language_info": {
   "codemirror_mode": {
    "name": "ipython",
    "version": 3
   },
   "file_extension": ".py",
   "mimetype": "text/x-python",
   "name": "python",
   "nbconvert_exporter": "python",
   "pygments_lexer": "ipython3",
   "version": "3.8.8"
  }
 },
 "nbformat": 4,
 "nbformat_minor": 5
}
